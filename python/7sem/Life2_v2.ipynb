{
 "cells": [
  {
   "cell_type": "code",
   "execution_count": 141,
   "metadata": {
    "collapsed": false
   },
   "outputs": [],
   "source": [
    "import numpy as np \n",
    "import math\n",
    "import itertools #для декартого произведения\n",
    "import random\n",
    "\n",
    "M = 512\n",
    "N = 256\n",
    "it_number = 100 #iteration number\n",
    "prob = .35 #доля живых ~ prob\n",
    "\n",
    "f1 = open(\"Life.txt\", 'w')\n",
    "\n",
    "def random_Matrix():\n",
    "    Field = np.random.random((M, N)) < prob\n",
    "    return Field.astype(int)\n",
    "\n",
    "def rule(x):\n",
    "    if x[0] == 1:\n",
    "        if x[1] < 2 or x[1] > 3:\n",
    "            return 0 #умирает\n",
    "    elif x[1] == 3:\n",
    "        return 1 #рождается\n",
    "    return x[0]\n",
    "\n",
    "def rollx2(x, y):\n",
    "    x = np.roll(x, y[0], 0)\n",
    "    x = np.roll(x, y[1], 1)\n",
    "    #print x\n",
    "    #print '\\n'\n",
    "    return x.ravel()    \n",
    "\n",
    "def iterate(Field): #Периодические граничные условия (\"сшиваем\" границы)\n",
    "    Field_mod = Field.copy().astype(int) #Field_mod is integer\n",
    "    neibhs = np.array([[-1,-1], [-1,0], [-1,1], [0,-1], [0,1], [1,-1], [1,0], [1,1]]) #[axis0_step, axis1_step]\n",
    "    \n",
    "    #к каждому элементу neibhs применяем rollx2 (2 разных roll), который роллит Field. \n",
    "    #Затем (на выходе) суммируем постолбцово результат выполнения внутреннего apply_along_axis.\n",
    "    #Получаем массив MxN с количеством соседей для соответствующей клетки\n",
    "    neibh_count = np.apply_along_axis(np.sum, 0,\\\n",
    "                  np.apply_along_axis(lambda y: x8_roll(Field_mod, y), 1, neibh)).reshape((M, N))\n",
    "    Field_mod = np.array(map(rule, zip(Field.ravel(), neibh_count.ravel()))).reshape(M, N)\n",
    "    return Field_mod\n",
    "\n",
    "\n",
    "def print_field(Field):\n",
    "    print '* ' * (N+1) + '*'\n",
    "    for i in range(M):\n",
    "        print '*',\n",
    "        for j in range(N):\n",
    "            if Field[i][j] == 1:\n",
    "                print 'O',\n",
    "            else:\n",
    "                print unicode(r'\\u00B7', 'unicode-escape'),\n",
    "        print '*'\n",
    "    print '* ' * (N+1) + '*'  \n",
    "    \n",
    "def file_print_field(Field):\n",
    "    f1.write('$' * (N+1) + '$\\n')\n",
    "    for i in range(M):\n",
    "        f1.write('$')\n",
    "        for j in range(N):\n",
    "            if Field[i][j] == 1:\n",
    "                f1.write('O')\n",
    "            else:\n",
    "                f1.write('*')\n",
    "        f1.write('$\\n')        \n",
    "    f1.write('$' * (N+1) + '$\\n')"
   ]
  },
  {
   "cell_type": "code",
   "execution_count": 142,
   "metadata": {
    "collapsed": false,
    "scrolled": true
   },
   "outputs": [],
   "source": [
    "Field = random_Matrix()\n",
    "#print_field(Field)\n",
    "\n",
    "for i in range(it_number):\n",
    "    Field = iterate(Field)\n",
    "    #print_field(Field)\n",
    "    #file_print_field(Field)\n",
    "\n",
    "f1.close()"
   ]
  },
  {
   "cell_type": "code",
   "execution_count": 55,
   "metadata": {
    "collapsed": false
   },
   "outputs": [
    {
     "name": "stdout",
     "output_type": "stream",
     "text": [
      "[[ 0  1  2  3]\n",
      " [ 4  5  6  7]\n",
      " [ 8  9 10 11]\n",
      " [12 13 14 15]]\n",
      "\n",
      "\n",
      "[[60 56 64 60]\n",
      " [44 40 48 44]\n",
      " [76 72 80 76]\n",
      " [60 56 64 60]]\n",
      "[1 0 1]\n",
      "1\n"
     ]
    }
   ],
   "source": [
    "def x8_roll(x, y):\n",
    "    x = np.roll(x, y[0], 0)\n",
    "    x = np.roll(x, y[1], 1)\n",
    "    #print x\n",
    "    #print '\\n'\n",
    "    return x.ravel()\n",
    "\n",
    "    \n",
    "#neibh = np.array([[0,-1], [1,-1], [0,1], [0,1], [1,1], [1,1], [0,-1], [0,-1]]) #[axis, step] roll: up, left, down , down...\n",
    "neibh = np.array([[-1,-1], [-1,0], [-1,1], [0,-1], [0,1], [1,-1], [1,0], [1,1]]) #[axis0_step, axis1_step]\n",
    "x = np.arange(16).reshape((4, 4))\n",
    "print x\n",
    "print '\\n'\n",
    "\n",
    "\n",
    "\n",
    "neibh_count = np.apply_along_axis(np.sum, 0, np.apply_along_axis(lambda y: x8_roll(x, y), 1, neibh)).reshape((4, 4))\n",
    "print neibh_count\n",
    "\n",
    "arr = np.array([True, False, True])\n",
    "b = arr.astype(int)\n",
    "print b\n",
    "c = zip(arr, b)\n",
    "print c[0][1]"
   ]
  }
 ],
 "metadata": {
  "kernelspec": {
   "display_name": "Python 2",
   "language": "python",
   "name": "python2"
  },
  "language_info": {
   "codemirror_mode": {
    "name": "ipython",
    "version": 2
   },
   "file_extension": ".py",
   "mimetype": "text/x-python",
   "name": "python",
   "nbconvert_exporter": "python",
   "pygments_lexer": "ipython2",
   "version": "2.7.11"
  }
 },
 "nbformat": 4,
 "nbformat_minor": 1
}
